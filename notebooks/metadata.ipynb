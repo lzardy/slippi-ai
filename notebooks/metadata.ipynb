{
 "cells": [
  {
   "cell_type": "code",
   "execution_count": 37,
   "id": "a266803f",
   "metadata": {},
   "outputs": [],
   "source": [
    "import collections\n",
    "import pandas as pd\n",
    "import melee\n",
    "from slippi_db import upload_lib, test_peppi"
   ]
  },
  {
   "cell_type": "code",
   "execution_count": 38,
   "id": "1d11ba19",
   "metadata": {},
   "outputs": [],
   "source": [
    "singles_infos = test_peppi.get_singles_info('prod')"
   ]
  },
  {
   "cell_type": "code",
   "execution_count": 44,
   "id": "0f28e986",
   "metadata": {},
   "outputs": [
    {
     "name": "stdout",
     "output_type": "stream",
     "text": [
      "203839\n"
     ]
    }
   ],
   "source": [
    "print(len(singles_infos))"
   ]
  },
  {
   "cell_type": "code",
   "execution_count": 39,
   "id": "bf64477e",
   "metadata": {},
   "outputs": [],
   "source": [
    "def to_row(game: dict) -> dict:\n",
    "    row = game.copy()\n",
    "    del row['players']\n",
    "    for i, player in enumerate(game['players']):\n",
    "        for k, v in player.items():\n",
    "            row[f'p{i}.{k}'] = v\n",
    "    return row"
   ]
  },
  {
   "cell_type": "code",
   "execution_count": 40,
   "id": "afdfc347",
   "metadata": {},
   "outputs": [],
   "source": [
    "df = pd.DataFrame(map(to_row, singles_infos))"
   ]
  },
  {
   "cell_type": "code",
   "execution_count": 41,
   "id": "d48651f5",
   "metadata": {},
   "outputs": [
    {
     "data": {
      "text/plain": [
       "Index(['startAt', 'lastFrame', 'playedOn', 'num_players', 'stage', 'timer',\n",
       "       'is_teams', 'winner', 'key', 'p0.port', 'p0.character', 'p0.type',\n",
       "       'p0.name_tag', 'p1.port', 'p1.character', 'p1.type', 'p1.name_tag'],\n",
       "      dtype='object')"
      ]
     },
     "execution_count": 41,
     "metadata": {},
     "output_type": "execute_result"
    }
   ],
   "source": [
    "df.keys()"
   ]
  },
  {
   "cell_type": "code",
   "execution_count": 42,
   "id": "2f1227d9",
   "metadata": {},
   "outputs": [],
   "source": [
    "def num_games_as(character: melee.Character) -> int:\n",
    "    total = 0\n",
    "    for i in [0, 1]:\n",
    "        total += (df[f'p{i}.character'] == character.value).sum()\n",
    "    return total"
   ]
  },
  {
   "cell_type": "code",
   "execution_count": 43,
   "id": "78fbfdc4",
   "metadata": {},
   "outputs": [
    {
     "data": {
      "text/plain": [
       "95336"
      ]
     },
     "execution_count": 43,
     "metadata": {},
     "output_type": "execute_result"
    }
   ],
   "source": [
    "num_games_as(melee.Character.FOX)"
   ]
  },
  {
   "cell_type": "code",
   "execution_count": null,
   "id": "fab2d49f",
   "metadata": {},
   "outputs": [],
   "source": []
  }
 ],
 "metadata": {
  "kernelspec": {
   "display_name": "Python 3 (ipykernel)",
   "language": "python",
   "name": "python3"
  },
  "language_info": {
   "codemirror_mode": {
    "name": "ipython",
    "version": 3
   },
   "file_extension": ".py",
   "mimetype": "text/x-python",
   "name": "python",
   "nbconvert_exporter": "python",
   "pygments_lexer": "ipython3",
   "version": "3.9.5"
  }
 },
 "nbformat": 4,
 "nbformat_minor": 5
}
