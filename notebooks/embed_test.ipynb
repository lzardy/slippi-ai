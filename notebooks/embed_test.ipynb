{
 "cells": [
  {
   "cell_type": "code",
   "execution_count": 10,
   "metadata": {},
   "outputs": [],
   "source": [
    "from slippi_ai import networks, embed"
   ]
  },
  {
   "cell_type": "code",
   "execution_count": 2,
   "metadata": {},
   "outputs": [
    {
     "data": {
      "text/plain": [
       "<slippi_ai.embed.StructEmbedding at 0x7f4e46a3da00>"
      ]
     },
     "execution_count": 2,
     "metadata": {},
     "output_type": "execute_result"
    }
   ],
   "source": [
    "networks.embed_game"
   ]
  },
  {
   "cell_type": "code",
   "execution_count": 8,
   "metadata": {},
   "outputs": [],
   "source": [
    "def print_embedding(embedding):\n",
    "    embed_struct = embedding.map(lambda e: e)\n",
    "    embed_flat = list(embedding.flatten(embed_struct))\n",
    "    total = 0\n",
    "    for e in embed_flat:\n",
    "        print(e.name, e.size)\n",
    "        total += e.size\n",
    "    print(total)"
   ]
  },
  {
   "cell_type": "code",
   "execution_count": 9,
   "metadata": {},
   "outputs": [
    {
     "name": "stdout",
     "output_type": "stream",
     "text": [
      "<enum 'Stage'> 8\n",
      "percent 1\n",
      "facing 1\n",
      "xy 1\n",
      "xy 1\n",
      "<enum 'Action'> 396\n",
      "<enum 'Character'> 32\n",
      "bool 1\n",
      "jumps_left 6\n",
      "shield_size 1\n",
      "bool 1\n",
      "percent 1\n",
      "facing 1\n",
      "xy 1\n",
      "xy 1\n",
      "<enum 'Action'> 396\n",
      "<enum 'Character'> 32\n",
      "bool 1\n",
      "jumps_left 6\n",
      "shield_size 1\n",
      "bool 1\n",
      "890\n"
     ]
    }
   ],
   "source": [
    "print_embedding(networks.embed_game)"
   ]
  },
  {
   "cell_type": "code",
   "execution_count": 11,
   "metadata": {},
   "outputs": [
    {
     "name": "stdout",
     "output_type": "stream",
     "text": [
      "A 1\n",
      "B 1\n",
      "X 1\n",
      "Y 1\n",
      "Z 1\n",
      "L 1\n",
      "R 1\n",
      "D_UP 1\n",
      "DiscreteEmbedding 17\n",
      "DiscreteEmbedding 17\n",
      "DiscreteEmbedding 17\n",
      "DiscreteEmbedding 17\n",
      "float 1\n",
      "float 1\n",
      "78\n"
     ]
    }
   ],
   "source": [
    "print_embedding(embed.embed_controller_discrete)"
   ]
  },
  {
   "cell_type": "code",
   "execution_count": 12,
   "metadata": {},
   "outputs": [],
   "source": [
    "import melee"
   ]
  },
  {
   "cell_type": "code",
   "execution_count": 13,
   "metadata": {},
   "outputs": [
    {
     "data": {
      "text/plain": [
       "396"
      ]
     },
     "execution_count": 13,
     "metadata": {},
     "output_type": "execute_result"
    }
   ],
   "source": [
    "len(melee.Action)"
   ]
  },
  {
   "cell_type": "code",
   "execution_count": null,
   "metadata": {},
   "outputs": [],
   "source": []
  }
 ],
 "metadata": {
  "kernelspec": {
   "display_name": "Python 3",
   "language": "python",
   "name": "python3"
  },
  "language_info": {
   "codemirror_mode": {
    "name": "ipython",
    "version": 3
   },
   "file_extension": ".py",
   "mimetype": "text/x-python",
   "name": "python",
   "nbconvert_exporter": "python",
   "pygments_lexer": "ipython3",
   "version": "3.8.10"
  }
 },
 "nbformat": 4,
 "nbformat_minor": 5
}
