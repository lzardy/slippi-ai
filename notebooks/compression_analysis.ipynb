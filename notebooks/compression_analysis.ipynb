{
 "cells": [
  {
   "cell_type": "code",
   "execution_count": 1,
   "id": "ea4d1f76",
   "metadata": {},
   "outputs": [],
   "source": [
    "from slippi_db import make_compression_datasets\n",
    "from slippi_db import upload_lib"
   ]
  },
  {
   "cell_type": "code",
   "execution_count": 2,
   "id": "f4d7d6ae",
   "metadata": {},
   "outputs": [],
   "source": [
    "env = 'compression_test'"
   ]
  },
  {
   "cell_type": "code",
   "execution_count": 3,
   "id": "baa5516c",
   "metadata": {},
   "outputs": [],
   "source": [
    "def get_dataset_size(dataset: str):\n",
    "    parsed_db = upload_lib.get_db(env, dataset)\n",
    "    infos = parsed_db.find({})\n",
    "    sizes = [info['size'] for info in infos if not info.get('failed', False)]\n",
    "    return sum(sizes)"
   ]
  },
  {
   "cell_type": "code",
   "execution_count": 17,
   "id": "e98ff455",
   "metadata": {},
   "outputs": [],
   "source": [
    "sizes = {name: get_dataset_size(name) for name in make_compression_datasets.configurations}"
   ]
  },
  {
   "cell_type": "code",
   "execution_count": 18,
   "id": "9b1120b8",
   "metadata": {},
   "outputs": [
    {
     "name": "stdout",
     "output_type": "stream",
     "text": [
      "uncompressed 1.000\n",
      "gzip 0.750\n",
      "snappy 0.826\n",
      "brotli 0.701\n",
      "lz4 0.751\n",
      "zstd 0.745\n",
      "zlib 0.537\n"
     ]
    }
   ],
   "source": [
    "for name, size in sizes.items():\n",
    "    print(name, '%.3f' % (size / sizes['uncompressed']))"
   ]
  },
  {
   "cell_type": "code",
   "execution_count": null,
   "id": "5bde9bed",
   "metadata": {},
   "outputs": [],
   "source": []
  }
 ],
 "metadata": {
  "kernelspec": {
   "display_name": "Python 3 (ipykernel)",
   "language": "python",
   "name": "python3"
  },
  "language_info": {
   "codemirror_mode": {
    "name": "ipython",
    "version": 3
   },
   "file_extension": ".py",
   "mimetype": "text/x-python",
   "name": "python",
   "nbconvert_exporter": "python",
   "pygments_lexer": "ipython3",
   "version": "3.9.5"
  }
 },
 "nbformat": 4,
 "nbformat_minor": 5
}
